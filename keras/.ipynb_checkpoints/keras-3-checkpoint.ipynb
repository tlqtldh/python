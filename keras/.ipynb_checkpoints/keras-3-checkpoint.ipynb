{
 "cells": [
  {
   "cell_type": "markdown",
   "metadata": {},
   "source": [
    "## 1. 문제 정의하기\n",
    "* 심각형, 사각형, 원에 대한 이미지를 분류하는 모델\n",
    "    * 문제 형태 : 다중 클래스 분류\n",
    "    * 입력 : 손으로 그린 삼각형, 사각형, 원 이미지\n",
    "    * 출력 : 삼각형, 사각형, 원일 확률을 나타내는 벡터"
   ]
  },
  {
   "cell_type": "code",
   "execution_count": 17,
   "metadata": {},
   "outputs": [],
   "source": [
    "import numpy as np\n",
    "from keras.models import Sequential\n",
    "from keras.layers import Dense\n",
    "from keras.layers import Flatten\n",
    "from keras.layers.convolutional import Conv2D\n",
    "from keras.layers.convolutional import MaxPooling2D\n",
    "from keras.preprocessing.image import ImageDataGenerator\n",
    "\n",
    "np.random.seed(3)"
   ]
  },
  {
   "cell_type": "markdown",
   "metadata": {},
   "source": [
    "## 2. 데이터 셋 생성\n",
    "* https://github.com/tykimos/tykimos.github.io/blob/master/warehouse/2017-3-8_CNN_Getting_Started_handwriting_shape.zip\n",
    "\n",
    "* 케라스에서 이미지파일을 쉽게 학습할 수 있도록 적절하게 데이터셋으로 만들어 주는 ImageDataGenerator 클래스를 활용\n",
    "    * 1st parameter : 이미지 경로를 지정\n",
    "    * target_size : 패치 이미지 크기를 지정 (원본 이미지 크기가 다르더라고 자동으로 resizing)\n",
    "    * batch_size : 배치 크기를 지정\n",
    "    * class_mode : 분류 방식에 대해 지정\n",
    "         * categoriacl : 2D one-hot encoding\n",
    "         * binary : 1D binary label\n",
    "         * sparse : 1D integer label\n",
    "         * None\n",
    "        \n",
    " * patch image 크기를 24x24로 했으니 Target도 24x24로 지정\n",
    " * 훈련 데이터 수가 Class당 15개이니 배치크기를 3으로 지정하여 5번 배치를 수행하면 1epoch\n",
    " * 원 삼각형, 사각형의 Multinomial Classification 문제 이므로 class_mode는 'categorical'로 지정\n",
    " * Generator는 Training용과 verification 두개를 만듬"
   ]
  },
  {
   "cell_type": "code",
   "execution_count": 18,
   "metadata": {},
   "outputs": [
    {
     "name": "stdout",
     "output_type": "stream",
     "text": [
      "Found 45 images belonging to 3 classes.\n",
      "Found 15 images belonging to 3 classes.\n"
     ]
    }
   ],
   "source": [
    "train_datagen = ImageDataGenerator(rescale=1./255)\n",
    "\n",
    "train_generator = train_datagen.flow_from_directory(\n",
    "    'data/hand/train',\n",
    "    target_size=(24, 24),\n",
    "    batch_size=3,\n",
    "    class_mode='categorical')\n",
    "\n",
    "test_datagen = ImageDataGenerator(rescale=1./255)\n",
    "\n",
    "test_generator= test_datagen.flow_from_directory(\n",
    "    'data/hand/hard/test',\n",
    "    target_size=(24, 24),\n",
    "    batch_size=3,\n",
    "    class_mode='categorical')"
   ]
  },
  {
   "cell_type": "markdown",
   "metadata": {},
   "source": [
    "## 3. Model 구성하기\n",
    "* Convolution Layer - input image:24x24, channel:3, filter:3x3, number of filters:32, activation func:relu\n",
    "* Conv Layer - filter:3x3, number of filters:64, activation func:relu\n",
    "* Maxpooling Layer - Pool: 2x2\n",
    "* Plateton Layer \n",
    "* Dense Layer - output nearon- 128 , activation func:relu\n",
    "* Dense Layer - output neauron - 3, activation func: softmax"
   ]
  },
  {
   "cell_type": "code",
   "execution_count": 19,
   "metadata": {},
   "outputs": [
    {
     "data": {
      "image/svg+xml": [
       "<svg height=\"553pt\" viewBox=\"0.00 0.00 392.00 553.00\" width=\"392pt\" xmlns=\"http://www.w3.org/2000/svg\" xmlns:xlink=\"http://www.w3.org/1999/xlink\">\n",
       "<g class=\"graph\" id=\"graph0\" transform=\"scale(1 1) rotate(0) translate(4 549)\">\n",
       "<title>G</title>\n",
       "<polygon fill=\"white\" points=\"-4,4 -4,-549 388,-549 388,4 -4,4\" stroke=\"none\"/>\n",
       "<!-- 419001400 -->\n",
       "<g class=\"node\" id=\"node1\"><title>419001400</title>\n",
       "<polygon fill=\"none\" points=\"20,-498.5 20,-544.5 364,-544.5 364,-498.5 20,-498.5\" stroke=\"black\"/>\n",
       "<text font-family=\"Times New Roman,serif\" font-size=\"14.00\" text-anchor=\"middle\" x=\"108\" y=\"-517.8\">conv2d_5_input: InputLayer</text>\n",
       "<polyline fill=\"none\" points=\"196,-498.5 196,-544.5 \" stroke=\"black\"/>\n",
       "<text font-family=\"Times New Roman,serif\" font-size=\"14.00\" text-anchor=\"middle\" x=\"224\" y=\"-529.3\">input:</text>\n",
       "<polyline fill=\"none\" points=\"196,-521.5 252,-521.5 \" stroke=\"black\"/>\n",
       "<text font-family=\"Times New Roman,serif\" font-size=\"14.00\" text-anchor=\"middle\" x=\"224\" y=\"-506.3\">output:</text>\n",
       "<polyline fill=\"none\" points=\"252,-498.5 252,-544.5 \" stroke=\"black\"/>\n",
       "<text font-family=\"Times New Roman,serif\" font-size=\"14.00\" text-anchor=\"middle\" x=\"308\" y=\"-529.3\">(None, 24, 24, 3)</text>\n",
       "<polyline fill=\"none\" points=\"252,-521.5 364,-521.5 \" stroke=\"black\"/>\n",
       "<text font-family=\"Times New Roman,serif\" font-size=\"14.00\" text-anchor=\"middle\" x=\"308\" y=\"-506.3\">(None, 24, 24, 3)</text>\n",
       "</g>\n",
       "<!-- 419000392 -->\n",
       "<g class=\"node\" id=\"node2\"><title>419000392</title>\n",
       "<polygon fill=\"none\" points=\"41,-415.5 41,-461.5 343,-461.5 343,-415.5 41,-415.5\" stroke=\"black\"/>\n",
       "<text font-family=\"Times New Roman,serif\" font-size=\"14.00\" text-anchor=\"middle\" x=\"104.5\" y=\"-434.8\">conv2d_5: Conv2D</text>\n",
       "<polyline fill=\"none\" points=\"168,-415.5 168,-461.5 \" stroke=\"black\"/>\n",
       "<text font-family=\"Times New Roman,serif\" font-size=\"14.00\" text-anchor=\"middle\" x=\"196\" y=\"-446.3\">input:</text>\n",
       "<polyline fill=\"none\" points=\"168,-438.5 224,-438.5 \" stroke=\"black\"/>\n",
       "<text font-family=\"Times New Roman,serif\" font-size=\"14.00\" text-anchor=\"middle\" x=\"196\" y=\"-423.3\">output:</text>\n",
       "<polyline fill=\"none\" points=\"224,-415.5 224,-461.5 \" stroke=\"black\"/>\n",
       "<text font-family=\"Times New Roman,serif\" font-size=\"14.00\" text-anchor=\"middle\" x=\"283.5\" y=\"-446.3\">(None, 24, 24, 3)</text>\n",
       "<polyline fill=\"none\" points=\"224,-438.5 343,-438.5 \" stroke=\"black\"/>\n",
       "<text font-family=\"Times New Roman,serif\" font-size=\"14.00\" text-anchor=\"middle\" x=\"283.5\" y=\"-423.3\">(None, 22, 22, 32)</text>\n",
       "</g>\n",
       "<!-- 419001400&#45;&gt;419000392 -->\n",
       "<g class=\"edge\" id=\"edge1\"><title>419001400-&gt;419000392</title>\n",
       "<path d=\"M192,-498.366C192,-490.152 192,-480.658 192,-471.725\" fill=\"none\" stroke=\"black\"/>\n",
       "<polygon fill=\"black\" points=\"195.5,-471.607 192,-461.607 188.5,-471.607 195.5,-471.607\" stroke=\"black\"/>\n",
       "</g>\n",
       "<!-- 388754792 -->\n",
       "<g class=\"node\" id=\"node3\"><title>388754792</title>\n",
       "<polygon fill=\"none\" points=\"41,-332.5 41,-378.5 343,-378.5 343,-332.5 41,-332.5\" stroke=\"black\"/>\n",
       "<text font-family=\"Times New Roman,serif\" font-size=\"14.00\" text-anchor=\"middle\" x=\"104.5\" y=\"-351.8\">conv2d_6: Conv2D</text>\n",
       "<polyline fill=\"none\" points=\"168,-332.5 168,-378.5 \" stroke=\"black\"/>\n",
       "<text font-family=\"Times New Roman,serif\" font-size=\"14.00\" text-anchor=\"middle\" x=\"196\" y=\"-363.3\">input:</text>\n",
       "<polyline fill=\"none\" points=\"168,-355.5 224,-355.5 \" stroke=\"black\"/>\n",
       "<text font-family=\"Times New Roman,serif\" font-size=\"14.00\" text-anchor=\"middle\" x=\"196\" y=\"-340.3\">output:</text>\n",
       "<polyline fill=\"none\" points=\"224,-332.5 224,-378.5 \" stroke=\"black\"/>\n",
       "<text font-family=\"Times New Roman,serif\" font-size=\"14.00\" text-anchor=\"middle\" x=\"283.5\" y=\"-363.3\">(None, 22, 22, 32)</text>\n",
       "<polyline fill=\"none\" points=\"224,-355.5 343,-355.5 \" stroke=\"black\"/>\n",
       "<text font-family=\"Times New Roman,serif\" font-size=\"14.00\" text-anchor=\"middle\" x=\"283.5\" y=\"-340.3\">(None, 20, 20, 64)</text>\n",
       "</g>\n",
       "<!-- 419000392&#45;&gt;388754792 -->\n",
       "<g class=\"edge\" id=\"edge2\"><title>419000392-&gt;388754792</title>\n",
       "<path d=\"M192,-415.366C192,-407.152 192,-397.658 192,-388.725\" fill=\"none\" stroke=\"black\"/>\n",
       "<polygon fill=\"black\" points=\"195.5,-388.607 192,-378.607 188.5,-388.607 195.5,-388.607\" stroke=\"black\"/>\n",
       "</g>\n",
       "<!-- 419002128 -->\n",
       "<g class=\"node\" id=\"node4\"><title>419002128</title>\n",
       "<polygon fill=\"none\" points=\"0,-249.5 0,-295.5 384,-295.5 384,-249.5 0,-249.5\" stroke=\"black\"/>\n",
       "<text font-family=\"Times New Roman,serif\" font-size=\"14.00\" text-anchor=\"middle\" x=\"104.5\" y=\"-268.8\">max_pooling2d_3: MaxPooling2D</text>\n",
       "<polyline fill=\"none\" points=\"209,-249.5 209,-295.5 \" stroke=\"black\"/>\n",
       "<text font-family=\"Times New Roman,serif\" font-size=\"14.00\" text-anchor=\"middle\" x=\"237\" y=\"-280.3\">input:</text>\n",
       "<polyline fill=\"none\" points=\"209,-272.5 265,-272.5 \" stroke=\"black\"/>\n",
       "<text font-family=\"Times New Roman,serif\" font-size=\"14.00\" text-anchor=\"middle\" x=\"237\" y=\"-257.3\">output:</text>\n",
       "<polyline fill=\"none\" points=\"265,-249.5 265,-295.5 \" stroke=\"black\"/>\n",
       "<text font-family=\"Times New Roman,serif\" font-size=\"14.00\" text-anchor=\"middle\" x=\"324.5\" y=\"-280.3\">(None, 20, 20, 64)</text>\n",
       "<polyline fill=\"none\" points=\"265,-272.5 384,-272.5 \" stroke=\"black\"/>\n",
       "<text font-family=\"Times New Roman,serif\" font-size=\"14.00\" text-anchor=\"middle\" x=\"324.5\" y=\"-257.3\">(None, 10, 10, 64)</text>\n",
       "</g>\n",
       "<!-- 388754792&#45;&gt;419002128 -->\n",
       "<g class=\"edge\" id=\"edge3\"><title>388754792-&gt;419002128</title>\n",
       "<path d=\"M192,-332.366C192,-324.152 192,-314.658 192,-305.725\" fill=\"none\" stroke=\"black\"/>\n",
       "<polygon fill=\"black\" points=\"195.5,-305.607 192,-295.607 188.5,-305.607 195.5,-305.607\" stroke=\"black\"/>\n",
       "</g>\n",
       "<!-- 391779104 -->\n",
       "<g class=\"node\" id=\"node5\"><title>391779104</title>\n",
       "<polygon fill=\"none\" points=\"50,-166.5 50,-212.5 334,-212.5 334,-166.5 50,-166.5\" stroke=\"black\"/>\n",
       "<text font-family=\"Times New Roman,serif\" font-size=\"14.00\" text-anchor=\"middle\" x=\"104.5\" y=\"-185.8\">flatten_2: Flatten</text>\n",
       "<polyline fill=\"none\" points=\"159,-166.5 159,-212.5 \" stroke=\"black\"/>\n",
       "<text font-family=\"Times New Roman,serif\" font-size=\"14.00\" text-anchor=\"middle\" x=\"187\" y=\"-197.3\">input:</text>\n",
       "<polyline fill=\"none\" points=\"159,-189.5 215,-189.5 \" stroke=\"black\"/>\n",
       "<text font-family=\"Times New Roman,serif\" font-size=\"14.00\" text-anchor=\"middle\" x=\"187\" y=\"-174.3\">output:</text>\n",
       "<polyline fill=\"none\" points=\"215,-166.5 215,-212.5 \" stroke=\"black\"/>\n",
       "<text font-family=\"Times New Roman,serif\" font-size=\"14.00\" text-anchor=\"middle\" x=\"274.5\" y=\"-197.3\">(None, 10, 10, 64)</text>\n",
       "<polyline fill=\"none\" points=\"215,-189.5 334,-189.5 \" stroke=\"black\"/>\n",
       "<text font-family=\"Times New Roman,serif\" font-size=\"14.00\" text-anchor=\"middle\" x=\"274.5\" y=\"-174.3\">(None, 6400)</text>\n",
       "</g>\n",
       "<!-- 419002128&#45;&gt;391779104 -->\n",
       "<g class=\"edge\" id=\"edge4\"><title>419002128-&gt;391779104</title>\n",
       "<path d=\"M192,-249.366C192,-241.152 192,-231.658 192,-222.725\" fill=\"none\" stroke=\"black\"/>\n",
       "<polygon fill=\"black\" points=\"195.5,-222.607 192,-212.607 188.5,-222.607 195.5,-222.607\" stroke=\"black\"/>\n",
       "</g>\n",
       "<!-- 432704536 -->\n",
       "<g class=\"node\" id=\"node6\"><title>432704536</title>\n",
       "<polygon fill=\"none\" points=\"67,-83.5 67,-129.5 317,-129.5 317,-83.5 67,-83.5\" stroke=\"black\"/>\n",
       "<text font-family=\"Times New Roman,serif\" font-size=\"14.00\" text-anchor=\"middle\" x=\"119\" y=\"-102.8\">dense_5: Dense</text>\n",
       "<polyline fill=\"none\" points=\"171,-83.5 171,-129.5 \" stroke=\"black\"/>\n",
       "<text font-family=\"Times New Roman,serif\" font-size=\"14.00\" text-anchor=\"middle\" x=\"199\" y=\"-114.3\">input:</text>\n",
       "<polyline fill=\"none\" points=\"171,-106.5 227,-106.5 \" stroke=\"black\"/>\n",
       "<text font-family=\"Times New Roman,serif\" font-size=\"14.00\" text-anchor=\"middle\" x=\"199\" y=\"-91.3\">output:</text>\n",
       "<polyline fill=\"none\" points=\"227,-83.5 227,-129.5 \" stroke=\"black\"/>\n",
       "<text font-family=\"Times New Roman,serif\" font-size=\"14.00\" text-anchor=\"middle\" x=\"272\" y=\"-114.3\">(None, 6400)</text>\n",
       "<polyline fill=\"none\" points=\"227,-106.5 317,-106.5 \" stroke=\"black\"/>\n",
       "<text font-family=\"Times New Roman,serif\" font-size=\"14.00\" text-anchor=\"middle\" x=\"272\" y=\"-91.3\">(None, 128)</text>\n",
       "</g>\n",
       "<!-- 391779104&#45;&gt;432704536 -->\n",
       "<g class=\"edge\" id=\"edge5\"><title>391779104-&gt;432704536</title>\n",
       "<path d=\"M192,-166.366C192,-158.152 192,-148.658 192,-139.725\" fill=\"none\" stroke=\"black\"/>\n",
       "<polygon fill=\"black\" points=\"195.5,-139.607 192,-129.607 188.5,-139.607 195.5,-139.607\" stroke=\"black\"/>\n",
       "</g>\n",
       "<!-- 437807200 -->\n",
       "<g class=\"node\" id=\"node7\"><title>437807200</title>\n",
       "<polygon fill=\"none\" points=\"70.5,-0.5 70.5,-46.5 313.5,-46.5 313.5,-0.5 70.5,-0.5\" stroke=\"black\"/>\n",
       "<text font-family=\"Times New Roman,serif\" font-size=\"14.00\" text-anchor=\"middle\" x=\"122.5\" y=\"-19.8\">dense_6: Dense</text>\n",
       "<polyline fill=\"none\" points=\"174.5,-0.5 174.5,-46.5 \" stroke=\"black\"/>\n",
       "<text font-family=\"Times New Roman,serif\" font-size=\"14.00\" text-anchor=\"middle\" x=\"202.5\" y=\"-31.3\">input:</text>\n",
       "<polyline fill=\"none\" points=\"174.5,-23.5 230.5,-23.5 \" stroke=\"black\"/>\n",
       "<text font-family=\"Times New Roman,serif\" font-size=\"14.00\" text-anchor=\"middle\" x=\"202.5\" y=\"-8.3\">output:</text>\n",
       "<polyline fill=\"none\" points=\"230.5,-0.5 230.5,-46.5 \" stroke=\"black\"/>\n",
       "<text font-family=\"Times New Roman,serif\" font-size=\"14.00\" text-anchor=\"middle\" x=\"272\" y=\"-31.3\">(None, 128)</text>\n",
       "<polyline fill=\"none\" points=\"230.5,-23.5 313.5,-23.5 \" stroke=\"black\"/>\n",
       "<text font-family=\"Times New Roman,serif\" font-size=\"14.00\" text-anchor=\"middle\" x=\"272\" y=\"-8.3\">(None, 3)</text>\n",
       "</g>\n",
       "<!-- 432704536&#45;&gt;437807200 -->\n",
       "<g class=\"edge\" id=\"edge6\"><title>432704536-&gt;437807200</title>\n",
       "<path d=\"M192,-83.3664C192,-75.1516 192,-65.6579 192,-56.7252\" fill=\"none\" stroke=\"black\"/>\n",
       "<polygon fill=\"black\" points=\"195.5,-56.6068 192,-46.6068 188.5,-56.6069 195.5,-56.6068\" stroke=\"black\"/>\n",
       "</g>\n",
       "</g>\n",
       "</svg>"
      ],
      "text/plain": [
       "<IPython.core.display.SVG object>"
      ]
     },
     "execution_count": 19,
     "metadata": {},
     "output_type": "execute_result"
    }
   ],
   "source": [
    "model = Sequential()\n",
    "model.add(Conv2D(32, kernel_size=(3,3), activation='relu', input_shape=(24, 24, 3)))\n",
    "model.add(Conv2D(64, (3, 3), activation='relu'))\n",
    "model.add(MaxPooling2D(pool_size=(2,2)))\n",
    "model.add(Flatten())\n",
    "model.add(Dense(128, activation='relu'))\n",
    "model.add(Dense(3, activation='softmax'))\n",
    "\n",
    "from IPython.display import SVG\n",
    "from keras.utils.vis_utils import model_to_dot\n",
    "\n",
    "%matplotlib inline\n",
    "\n",
    "SVG(model_to_dot(model, show_shapes=True).create(prog='dot', format='svg'))"
   ]
  },
  {
   "cell_type": "markdown",
   "metadata": {},
   "source": [
    "## 4. Model Training 설정\n",
    "* loss : 다중 클래스의 문제이므로 'categorical_crossentropy'로 지정\n",
    "* optimizer : 'adam'을 지정\n",
    "* metric : 'accuracy'로 지정"
   ]
  },
  {
   "cell_type": "code",
   "execution_count": 20,
   "metadata": {
    "collapsed": true
   },
   "outputs": [],
   "source": [
    "model.compile(loss='categorical_crossentropy', optimizer='adam', metrics=['accuracy'])"
   ]
  },
  {
   "cell_type": "markdown",
   "metadata": {},
   "source": [
    "## 5. Model 학습 시키기\n",
    "* 모델을 학습에서는 일반적으로 fit() 함수를 쓰지만, generator로 생성된 배치로 학습시키는 경우는 fit_generator() 함수를 사용\n",
    "    * 1st parameter : 훈련데이터셋을 제공할 Generator 지정, -> train_generator\n",
    "    * steps_per_epoch : 한 epoch에 사용한 스템수 총 45개의 훈련 샘플이 있고 배치사이즈가 3이므로 15 Step으로 지정\n",
    "    * epochs: 100번\n",
    "    * validation_data : 검증 데이터셋을 제공할 Generator를 지정 -> test_generator\n",
    "    * validation_steps: 한 epoch 종료시 마다 검증할 때 사용되즞 검증 스텝수를 지정 총 15개의 검증샘플이 있고 배치사이즈가 3이므로 5스텝 지정"
   ]
  },
  {
   "cell_type": "code",
   "execution_count": 21,
   "metadata": {},
   "outputs": [
    {
     "name": "stdout",
     "output_type": "stream",
     "text": [
      "Epoch 1/50\n",
      "15/15 [==============================] - 1s 73ms/step - loss: 0.9427 - acc: 0.5556 - val_loss: 1.7614 - val_acc: 0.3333\n",
      "Epoch 2/50\n",
      "15/15 [==============================] - 1s 41ms/step - loss: 0.2362 - acc: 0.9333 - val_loss: 2.5251 - val_acc: 0.4000\n",
      "Epoch 3/50\n",
      "15/15 [==============================] - 1s 37ms/step - loss: 0.0376 - acc: 1.0000 - val_loss: 4.1011 - val_acc: 0.3333\n",
      "Epoch 4/50\n",
      "15/15 [==============================] - 1s 38ms/step - loss: 0.0038 - acc: 1.0000 - val_loss: 4.8604 - val_acc: 0.3333\n",
      "Epoch 5/50\n",
      "15/15 [==============================] - 1s 44ms/step - loss: 9.3301e-04 - acc: 1.0000 - val_loss: 5.2366 - val_acc: 0.3333\n",
      "Epoch 6/50\n",
      "15/15 [==============================] - 1s 36ms/step - loss: 5.4740e-04 - acc: 1.0000 - val_loss: 5.3384 - val_acc: 0.3333\n",
      "Epoch 7/50\n",
      "15/15 [==============================] - 1s 40ms/step - loss: 3.6677e-04 - acc: 1.0000 - val_loss: 5.3918 - val_acc: 0.3333\n",
      "Epoch 8/50\n",
      "15/15 [==============================] - 1s 40ms/step - loss: 2.7917e-04 - acc: 1.0000 - val_loss: 5.4362 - val_acc: 0.3333\n",
      "Epoch 9/50\n",
      "15/15 [==============================] - 1s 40ms/step - loss: 2.2822e-04 - acc: 1.0000 - val_loss: 5.4835 - val_acc: 0.3333\n",
      "Epoch 10/50\n",
      "15/15 [==============================] - 1s 39ms/step - loss: 1.8706e-04 - acc: 1.0000 - val_loss: 5.5368 - val_acc: 0.3333\n",
      "Epoch 11/50\n",
      "15/15 [==============================] - 1s 43ms/step - loss: 1.5744e-04 - acc: 1.0000 - val_loss: 5.5829 - val_acc: 0.3333\n",
      "Epoch 12/50\n",
      "15/15 [==============================] - 1s 38ms/step - loss: 1.3590e-04 - acc: 1.0000 - val_loss: 5.6352 - val_acc: 0.3333\n",
      "Epoch 13/50\n",
      "15/15 [==============================] - 1s 39ms/step - loss: 1.1803e-04 - acc: 1.0000 - val_loss: 5.6787 - val_acc: 0.3333\n",
      "Epoch 14/50\n",
      "15/15 [==============================] - 1s 39ms/step - loss: 1.0282e-04 - acc: 1.0000 - val_loss: 5.7090 - val_acc: 0.3333\n",
      "Epoch 15/50\n",
      "15/15 [==============================] - 1s 39ms/step - loss: 9.2030e-05 - acc: 1.0000 - val_loss: 5.7317 - val_acc: 0.3333\n",
      "Epoch 16/50\n",
      "15/15 [==============================] - 1s 39ms/step - loss: 8.2995e-05 - acc: 1.0000 - val_loss: 5.7618 - val_acc: 0.3333\n",
      "Epoch 17/50\n",
      "15/15 [==============================] - 1s 37ms/step - loss: 7.4860e-05 - acc: 1.0000 - val_loss: 5.7934 - val_acc: 0.3333\n",
      "Epoch 18/50\n",
      "15/15 [==============================] - 1s 43ms/step - loss: 6.7827e-05 - acc: 1.0000 - val_loss: 5.8217 - val_acc: 0.3333\n",
      "Epoch 19/50\n",
      "15/15 [==============================] - 1s 40ms/step - loss: 6.1751e-05 - acc: 1.0000 - val_loss: 5.8455 - val_acc: 0.3333\n",
      "Epoch 20/50\n",
      "15/15 [==============================] - 1s 38ms/step - loss: 5.6632e-05 - acc: 1.0000 - val_loss: 5.8649 - val_acc: 0.3333\n",
      "Epoch 21/50\n",
      "15/15 [==============================] - 1s 37ms/step - loss: 5.1956e-05 - acc: 1.0000 - val_loss: 5.8758 - val_acc: 0.3333\n",
      "Epoch 22/50\n",
      "15/15 [==============================] - 1s 39ms/step - loss: 4.8304e-05 - acc: 1.0000 - val_loss: 5.8943 - val_acc: 0.3333\n",
      "Epoch 23/50\n",
      "15/15 [==============================] - 1s 41ms/step - loss: 4.4762e-05 - acc: 1.0000 - val_loss: 5.9110 - val_acc: 0.4000\n",
      "Epoch 24/50\n",
      "15/15 [==============================] - 1s 41ms/step - loss: 4.1408e-05 - acc: 1.0000 - val_loss: 5.9325 - val_acc: 0.4000\n",
      "Epoch 25/50\n",
      "15/15 [==============================] - 1s 38ms/step - loss: 3.8803e-05 - acc: 1.0000 - val_loss: 5.9491 - val_acc: 0.4000\n",
      "Epoch 26/50\n",
      "15/15 [==============================] - 1s 44ms/step - loss: 3.6507e-05 - acc: 1.0000 - val_loss: 5.9665 - val_acc: 0.4000\n",
      "Epoch 27/50\n",
      "15/15 [==============================] - 1s 38ms/step - loss: 3.4392e-05 - acc: 1.0000 - val_loss: 5.9813 - val_acc: 0.4000\n",
      "Epoch 28/50\n",
      "15/15 [==============================] - 1s 39ms/step - loss: 3.1788e-05 - acc: 1.0000 - val_loss: 5.9993 - val_acc: 0.4000\n",
      "Epoch 29/50\n",
      "15/15 [==============================] - 1s 40ms/step - loss: 2.9889e-05 - acc: 1.0000 - val_loss: 6.0143 - val_acc: 0.4000\n",
      "Epoch 30/50\n",
      "15/15 [==============================] - 1s 39ms/step - loss: 2.8432e-05 - acc: 1.0000 - val_loss: 6.0289 - val_acc: 0.4000\n",
      "Epoch 31/50\n",
      "15/15 [==============================] - 1s 38ms/step - loss: 2.6629e-05 - acc: 1.0000 - val_loss: 6.0507 - val_acc: 0.4000\n",
      "Epoch 32/50\n",
      "15/15 [==============================] - 1s 41ms/step - loss: 2.5501e-05 - acc: 1.0000 - val_loss: 6.0684 - val_acc: 0.4000\n",
      "Epoch 33/50\n",
      "15/15 [==============================] - 1s 40ms/step - loss: 2.4091e-05 - acc: 1.0000 - val_loss: 6.0817 - val_acc: 0.4000\n",
      "Epoch 34/50\n",
      "15/15 [==============================] - 1s 42ms/step - loss: 2.2619e-05 - acc: 1.0000 - val_loss: 6.1037 - val_acc: 0.4000\n",
      "Epoch 35/50\n",
      "15/15 [==============================] - 1s 39ms/step - loss: 2.1561e-05 - acc: 1.0000 - val_loss: 6.1188 - val_acc: 0.4000\n",
      "Epoch 36/50\n",
      "15/15 [==============================] - 1s 38ms/step - loss: 2.0635e-05 - acc: 1.0000 - val_loss: 6.1269 - val_acc: 0.4000\n",
      "Epoch 37/50\n",
      "15/15 [==============================] - 1s 39ms/step - loss: 1.9490e-05 - acc: 1.0000 - val_loss: 6.1464 - val_acc: 0.4000\n",
      "Epoch 38/50\n",
      "15/15 [==============================] - 1s 37ms/step - loss: 1.8498e-05 - acc: 1.0000 - val_loss: 6.1632 - val_acc: 0.4000\n",
      "Epoch 39/50\n",
      "15/15 [==============================] - 1s 38ms/step - loss: 1.7714e-05 - acc: 1.0000 - val_loss: 6.1727 - val_acc: 0.4000\n",
      "Epoch 40/50\n",
      "15/15 [==============================] - 1s 39ms/step - loss: 1.6992e-05 - acc: 1.0000 - val_loss: 6.1875 - val_acc: 0.4000\n",
      "Epoch 41/50\n",
      "15/15 [==============================] - 1s 38ms/step - loss: 1.5990e-05 - acc: 1.0000 - val_loss: 6.2077 - val_acc: 0.4000\n",
      "Epoch 42/50\n",
      "15/15 [==============================] - 1s 40ms/step - loss: 1.5374e-05 - acc: 1.0000 - val_loss: 6.2186 - val_acc: 0.4000\n",
      "Epoch 43/50\n",
      "15/15 [==============================] - 1s 38ms/step - loss: 1.4671e-05 - acc: 1.0000 - val_loss: 6.2330 - val_acc: 0.4000\n",
      "Epoch 44/50\n",
      "15/15 [==============================] - 1s 38ms/step - loss: 1.4186e-05 - acc: 1.0000 - val_loss: 6.2514 - val_acc: 0.4000\n",
      "Epoch 45/50\n",
      "15/15 [==============================] - 1s 37ms/step - loss: 1.3456e-05 - acc: 1.0000 - val_loss: 6.2643 - val_acc: 0.4000\n",
      "Epoch 46/50\n",
      "15/15 [==============================] - 1s 38ms/step - loss: 1.2954e-05 - acc: 1.0000 - val_loss: 6.2768 - val_acc: 0.4000\n",
      "Epoch 47/50\n",
      "15/15 [==============================] - 1s 46ms/step - loss: 1.2546e-05 - acc: 1.0000 - val_loss: 6.2828 - val_acc: 0.4000\n",
      "Epoch 48/50\n",
      "15/15 [==============================] - 1s 43ms/step - loss: 1.1911e-05 - acc: 1.0000 - val_loss: 6.3022 - val_acc: 0.4000\n",
      "Epoch 49/50\n",
      "15/15 [==============================] - 1s 42ms/step - loss: 1.1521e-05 - acc: 1.0000 - val_loss: 6.3169 - val_acc: 0.4000\n",
      "Epoch 50/50\n",
      "15/15 [==============================] - 1s 49ms/step - loss: 1.1060e-05 - acc: 1.0000 - val_loss: 6.3313 - val_acc: 0.4000\n"
     ]
    },
    {
     "data": {
      "text/plain": [
       "<keras.callbacks.History at 0x19c221d0>"
      ]
     },
     "execution_count": 21,
     "metadata": {},
     "output_type": "execute_result"
    }
   ],
   "source": [
    "model.fit_generator( train_generator, steps_per_epoch=15, epochs=50, validation_data=test_generator, validation_steps=5)"
   ]
  },
  {
   "cell_type": "markdown",
   "metadata": {},
   "source": [
    "## 6. 모델 평가 하기\n",
    "* generator에서 제공 되는 샘플로 평가할 때는 evaluate_generator 함수를 사용"
   ]
  },
  {
   "cell_type": "code",
   "execution_count": 22,
   "metadata": {},
   "outputs": [
    {
     "name": "stdout",
     "output_type": "stream",
     "text": [
      "-- Evaluate --\n",
      "acc: 40.00%\n"
     ]
    }
   ],
   "source": [
    "print(\"-- Evaluate --\")\n",
    "scores = model.evaluate_generator(test_generator, steps=5)\n",
    "print(\"%s: %.2f%%\" %(model.metrics_names[1], scores[1]*100))"
   ]
  },
  {
   "cell_type": "markdown",
   "metadata": {},
   "source": [
    "## 7. Model 사용하기\n",
    "* generator에서 제공되는 샘플을 입력할때 predict_generator 함수를 사용, 예측 결과는 확률 벡터로 출력된다. 이때 generator의 class_indices를 출력하면 클래스 명을 알 수 있다"
   ]
  },
  {
   "cell_type": "code",
   "execution_count": 16,
   "metadata": {},
   "outputs": [
    {
     "name": "stdout",
     "output_type": "stream",
     "text": [
      "--Predict --\n",
      "{'circle': 0, 'rectangle': 1, 'triangle': 2}\n",
      "[[0.000 0.001 0.999]\n",
      " [0.042 0.913 0.046]\n",
      " [0.000 1.000 0.000]\n",
      " [0.000 1.000 0.000]\n",
      " [0.000 0.000 1.000]\n",
      " [1.000 0.000 0.000]\n",
      " [0.000 1.000 0.000]\n",
      " [0.998 0.000 0.002]\n",
      " [0.000 1.000 0.000]\n",
      " [1.000 0.000 0.000]\n",
      " [1.000 0.000 0.000]\n",
      " [0.000 0.000 1.000]\n",
      " [0.000 0.000 1.000]\n",
      " [0.000 0.013 0.987]\n",
      " [1.000 0.000 0.000]]\n"
     ]
    }
   ],
   "source": [
    "print(\"--Predict --\")\n",
    "output = model.predict_generator(test_generator, steps=5)\n",
    "np.set_printoptions(formatter={'float':lambda x: \"{0:0.3f}\".format(x)})\n",
    "print(test_generator.class_indices)\n",
    "print(output)"
   ]
  },
  {
   "cell_type": "code",
   "execution_count": null,
   "metadata": {
    "collapsed": true
   },
   "outputs": [],
   "source": []
  }
 ],
 "metadata": {
  "kernelspec": {
   "display_name": "Python 3",
   "language": "python",
   "name": "python3"
  },
  "language_info": {
   "codemirror_mode": {
    "name": "ipython",
    "version": 3
   },
   "file_extension": ".py",
   "mimetype": "text/x-python",
   "name": "python",
   "nbconvert_exporter": "python",
   "pygments_lexer": "ipython3",
   "version": "3.6.1"
  }
 },
 "nbformat": 4,
 "nbformat_minor": 2
}
